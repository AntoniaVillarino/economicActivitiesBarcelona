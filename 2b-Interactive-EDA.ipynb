{
 "cells": [
  {
   "cell_type": "markdown",
   "id": "advised-eclipse",
   "metadata": {},
   "source": [
    "# Interactive Exploratory Data Analysis\n",
    "### Census of ground floor stores in Barcelona, 2019"
   ]
  },
  {
   "cell_type": "code",
   "execution_count": 1,
   "id": "duplicate-contemporary",
   "metadata": {},
   "outputs": [],
   "source": [
    "import pandas as pd\n",
    "import geopandas\n",
    "import numpy as np\n",
    "import matplotlib.pyplot as plt"
   ]
  },
  {
   "cell_type": "code",
   "execution_count": 2,
   "id": "reduced-neighborhood",
   "metadata": {},
   "outputs": [],
   "source": [
    "import ipywidgets as widgets\n",
    "from ipywidgets import interact"
   ]
  },
  {
   "cell_type": "code",
   "execution_count": 3,
   "id": "tight-malaysia",
   "metadata": {},
   "outputs": [],
   "source": [
    "import plotly.express as px"
   ]
  },
  {
   "cell_type": "code",
   "execution_count": 4,
   "id": "thousand-computer",
   "metadata": {},
   "outputs": [
    {
     "data": {
      "text/html": [
       "<script>\n",
       "code_show=true;\n",
       "function code_toggle() {\n",
       " if (code_show){\n",
       " $('div.input').hide();\n",
       " } else {\n",
       " $('div.input').show();\n",
       " }\n",
       " code_show = !code_show\n",
       "}\n",
       "$( document ).ready(code_toggle);\n",
       "</script>\n",
       "<form action=\"javascript:code_toggle()\"><input type=\"submit\" value=\"Click here to toggle on/off the raw code.\"></form>"
      ],
      "text/plain": [
       "<IPython.core.display.HTML object>"
      ]
     },
     "execution_count": 4,
     "metadata": {},
     "output_type": "execute_result"
    }
   ],
   "source": [
    "from IPython.display import HTML\n",
    "   \n",
    "HTML('''<script>\n",
    "code_show=true;\n",
    "function code_toggle() {\n",
    " if (code_show){\n",
    " $('div.input').hide();\n",
    " } else {\n",
    " $('div.input').show();\n",
    " }\n",
    " code_show = !code_show\n",
    "}\n",
    "$( document ).ready(code_toggle);\n",
    "</script>\n",
    "<form action=\"javascript:code_toggle()\"><input type=\"submit\" value=\"Click here to toggle on/off the raw code.\"></form>''')"
   ]
  },
  {
   "cell_type": "markdown",
   "id": "altered-bunch",
   "metadata": {},
   "source": [
    "#### Import the datasets"
   ]
  },
  {
   "cell_type": "code",
   "execution_count": 5,
   "id": "hungarian-principal",
   "metadata": {},
   "outputs": [],
   "source": [
    "activity_groups = pd.read_csv('./data/cleaned/activity_groups_by_neighbourhood.csv')\n",
    "activities = pd.read_csv('./data/cleaned/activities_by_neighbourhood.csv')"
   ]
  },
  {
   "cell_type": "code",
   "execution_count": 6,
   "id": "orange-poison",
   "metadata": {},
   "outputs": [],
   "source": [
    "geo_barcelona = geopandas.read_file(\"./data/neighborhoods.geojson\")\n",
    "geo_barcelona.drop(geo_barcelona.columns.difference(['NOM','geometry']), axis=1, inplace=True)\n",
    "geo_barcelona = geo_barcelona.replace('el Poble-sec', 'el Poble Sec')"
   ]
  },
  {
   "cell_type": "markdown",
   "id": "healthy-cocktail",
   "metadata": {},
   "source": [
    "#### Merge the group activities datasets with the geojson and plot the choropleth map"
   ]
  },
  {
   "cell_type": "code",
   "execution_count": 7,
   "id": "veterinary-pixel",
   "metadata": {},
   "outputs": [],
   "source": [
    "merged_activity_groups = geo_barcelona.merge(activity_groups, right_on='Nom_Barri', left_on='NOM', how='right')\n",
    "merged_activity_groups = merged_activity_groups.drop(columns=['NOM'])"
   ]
  },
  {
   "cell_type": "code",
   "execution_count": 12,
   "id": "dietary-realtor",
   "metadata": {
    "scrolled": false
   },
   "outputs": [
    {
     "data": {
      "application/vnd.jupyter.widget-view+json": {
       "model_id": "5a50232bb40340b39b5e2e2aab8982e3",
       "version_major": 2,
       "version_minor": 0
      },
      "text/plain": [
       "interactive(children=(Dropdown(description='title', options=('Real estate bussiness', 'Others', 'Automotive-re…"
      ]
     },
     "metadata": {},
     "output_type": "display_data"
    }
   ],
   "source": [
    "group_activity_features = merged_activity_groups.columns.drop(['Nom_Barri', 'geometry']).to_list()\n",
    "titles = ['Real estate bussiness', 'Others', 'Automotive-related bussiness', 'Education-related business',\n",
    "         'Personal apparel shops', 'Leisure and cultural equipment', 'Finances and insurance', 'Undefined group',\n",
    "         'Maintenace and cleaning', 'Leisure and culture', 'Household goods stores', 'Grocery shops',\n",
    "         'Daily shops', 'Repairs', 'Restaurants, pubs and hotels', 'Healthcare']\n",
    "\n",
    "@interact\n",
    "def select_features_and_plot(title=titles):\n",
    "    feat_idx = titles.index(title)\n",
    "    \n",
    "    fig, ax = plt.subplots(figsize=(10,10))\n",
    "    ax.set_aspect('equal')\n",
    "    merged_activity_groups.plot(column=group_activity_features[feat_idx], legend=True, ax=ax, cmap='cividis_r')\n",
    "    plt.title(f'{title} in Barcelona (2019)')"
   ]
  },
  {
   "cell_type": "markdown",
   "id": "signed-console",
   "metadata": {},
   "source": [
    "#### Merge the activities datasets with the geojson and plot the choropleth map"
   ]
  },
  {
   "cell_type": "code",
   "execution_count": 9,
   "id": "simplified-russian",
   "metadata": {},
   "outputs": [],
   "source": [
    "merged_activities = geo_barcelona.merge(activities, right_on='Nom_Barri', left_on='NOM', how='right')\n",
    "merged_activities = merged_activities.drop(columns=['NOM'])"
   ]
  },
  {
   "cell_type": "code",
   "execution_count": 11,
   "id": "killing-sending",
   "metadata": {},
   "outputs": [
    {
     "data": {
      "application/vnd.jupyter.widget-view+json": {
       "model_id": "d5667c79d56642459fcd78f911f99a5d",
       "version_major": 2,
       "version_minor": 0
      },
      "text/plain": [
       "interactive(children=(Dropdown(description='feature', options=('Activitats de la construcció', 'Activitats de …"
      ]
     },
     "metadata": {},
     "output_type": "display_data"
    }
   ],
   "source": [
    "activity_features = merged_activities.columns.drop(['Nom_Barri', 'geometry']).to_list()\n",
    "\n",
    "@interact\n",
    "def select_features_and_plot(feature=activity_features):\n",
    "    \n",
    "    fig, ax = plt.subplots(figsize=(10,10))\n",
    "    ax.set_aspect('equal')\n",
    "    merged_activities.plot(column=feature, legend=True, ax=ax, cmap='cividis_r')\n",
    "    plt.title(f'{feature} in Barcelona (2019)')"
   ]
  },
  {
   "cell_type": "code",
   "execution_count": null,
   "id": "removed-smith",
   "metadata": {},
   "outputs": [],
   "source": []
  }
 ],
 "metadata": {
  "kernelspec": {
   "display_name": "Python 3",
   "language": "python",
   "name": "python3"
  },
  "language_info": {
   "codemirror_mode": {
    "name": "ipython",
    "version": 3
   },
   "file_extension": ".py",
   "mimetype": "text/x-python",
   "name": "python",
   "nbconvert_exporter": "python",
   "pygments_lexer": "ipython3",
   "version": "3.7.9"
  }
 },
 "nbformat": 4,
 "nbformat_minor": 5
}
